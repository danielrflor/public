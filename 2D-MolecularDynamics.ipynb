{
 "cells": [
  {
   "cell_type": "code",
   "execution_count": null,
   "id": "4e56fb51",
   "metadata": {},
   "outputs": [],
   "source": [
    "from numba import jit\n",
    "import numpy as np\n",
    "import matplotlib.pyplot as plt"
   ]
  },
  {
   "cell_type": "code",
   "execution_count": null,
   "id": "89ad0822",
   "metadata": {},
   "outputs": [],
   "source": [
    "L = 4          # initial square side\n",
    "N = L*L          # number of particles\n",
    "\n",
    "rho = 0.6        # density\n",
    "boxsize = np.sqrt(N/rho)       # linear dimension of the box\n",
    "\n",
    "temper=1.05     # temperature\n",
    "\n",
    "rcut=2.5      # cutting radius of Lennard-Jones\n",
    "rcut=rcut**2\n",
    "\n",
    "rv=1.1        # Radius for verlet list\n",
    "rv=rv**2"
   ]
  },
  {
   "cell_type": "code",
   "execution_count": null,
   "id": "f7a3450a",
   "metadata": {},
   "outputs": [],
   "source": [
    "def conf_ini(N,boxsize,temper):\n",
    "    \n",
    "    L = int(np.sqrt(N)) # Define a dimensao linear da rede quadrada  (Atencao!!! A raiz quadrada de N é suposta inteira)\n",
    "    \n",
    "    x = np.zeros(N) #positin in x\n",
    "    y = np.zeros(N) #position in y\n",
    "    \n",
    "    vx = np.zeros(N) #velocities in x\n",
    "    vy = np.zeros(N) #velocities in y\n",
    "    \n",
    "    count = 0 \n",
    "    for i in range(L):\n",
    "        for j in range(L):\n",
    "            # distributes the particles in a centered square lattice\n",
    "            x[count] = (i + 0.5) - L/2\n",
    "            y[count] = (j + 0.5) - L/2\n",
    "            # Choose velocity uniformly on a unit circle\n",
    "            phi = np.random.uniform(0, 2*np.pi)\n",
    "            vx[count]=np.cos(phi)\n",
    "            vy[count]=np.sin(phi)\n",
    "            \n",
    "            count += 1\n",
    "            \n",
    "    # normalizes positions into the box        \n",
    "    x = x/L*boxsize\n",
    "    y = y/L*boxsize\n",
    "    \n",
    "    # normalizes the velocities according to the energy equipartition theorem\n",
    "    prov=np.sqrt((2.0-2.0/N)*temper)\n",
    "    vx = vx*prov\n",
    "    vy = vy*prov  \n",
    "                 \n",
    "    # Zero the total momentum of the particles\n",
    "    prov = np.sum(vx)\n",
    "    vx = vx*(prov/N)\n",
    "    prov=np.sum(vy)\n",
    "    vy=vy-prov\n",
    "                 \n",
    "    return x,y,vx,vy"
   ]
  },
  {
   "cell_type": "code",
   "execution_count": null,
   "id": "7b5ffca8",
   "metadata": {},
   "outputs": [],
   "source": [
    "def verlet_list(x,y,rv,boxsize):     # Create a Verlet list to define neighbors\n",
    "    N = len(x)     # number of particles\n",
    "    n_neighbors = np.zeros(N,np.int64)    # state the arrays\n",
    "    neighbors = np.empty(0,np.int64),\n",
    "    count=0  # count of the number of neighbors (neighbors array index)\n",
    "    for i in range(N):         # loop over all particles\n",
    "        for j in range(i+1,N): # loop over all possible neighbors\n",
    "            xij = x[i]-x[j]     # Distance between particles\n",
    "            yij = y[i]-y[j]\n",
    "            xij = xij - boxsize*np.rint(xij/boxsize)  # apply periodic boundary conditions\n",
    "            yij = yij - boxsize*np.rint(yij/boxsize)\n",
    "            r2 = xij*xij + yij*yij\n",
    "            if r2 < rv:\n",
    "                count += 1\n",
    "                n_neighbors[i] = cont\n",
    "                neighbors=np.append(neighbors,[j])\n",
    "                return n_neighbors,neighbors"
   ]
  },
  {
   "cell_type": "code",
   "execution_count": null,
   "id": "11d8a5c3",
   "metadata": {},
   "outputs": [],
   "source": [
    "x,y,vx,vy = conf_ini(N,boxsize,temper)\n",
    "plt.scatter(x,y)"
   ]
  }
 ],
 "metadata": {
  "kernelspec": {
   "display_name": "Python 3 (ipykernel)",
   "language": "python",
   "name": "python3"
  },
  "language_info": {
   "codemirror_mode": {
    "name": "ipython",
    "version": 3
   },
   "file_extension": ".py",
   "mimetype": "text/x-python",
   "name": "python",
   "nbconvert_exporter": "python",
   "pygments_lexer": "ipython3",
   "version": "3.9.12"
  }
 },
 "nbformat": 4,
 "nbformat_minor": 5
}
